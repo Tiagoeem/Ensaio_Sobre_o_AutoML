{
  "nbformat": 4,
  "nbformat_minor": 0,
  "metadata": {
    "colab": {
      "name": "Auto_ML_PyCaret_Rain_Aus.ipynb",
      "provenance": [],
      "collapsed_sections": [],
      "toc_visible": true,
      "authorship_tag": "ABX9TyO/551FIDb118hyDhR/ACqp",
      "include_colab_link": true
    },
    "kernelspec": {
      "name": "python3",
      "display_name": "Python 3"
    },
    "language_info": {
      "name": "python"
    },
    "accelerator": "GPU"
  },
  "cells": [
    {
      "cell_type": "markdown",
      "metadata": {
        "id": "view-in-github",
        "colab_type": "text"
      },
      "source": [
        "<a href=\"https://colab.research.google.com/github/Tiagoeem/Ensaio_Sobre_o_AutoML/blob/main/Auto_ML_PyCaret_Rain_Aus.ipynb\" target=\"_parent\"><img src=\"https://colab.research.google.com/assets/colab-badge.svg\" alt=\"Open In Colab\"/></a>"
      ]
    },
    {
      "cell_type": "code",
      "metadata": {
        "id": "WUBfODDWnDwI"
      },
      "source": [
        "# Para medir o tempo de execução do script\n",
        "import time\n",
        "ini = time.time()"
      ],
      "execution_count": null,
      "outputs": []
    },
    {
      "cell_type": "markdown",
      "metadata": {
        "id": "t8h9PKiK-1Bj"
      },
      "source": [
        "# Instalando PyCaret\n",
        "\n",
        "Instalando módulos para suporte a GPU, treinamento demorou demais nos primeiros testes. [PyCaret on GPU](https://pycaret.readthedocs.io/en/latest/installation.html)"
      ]
    },
    {
      "cell_type": "code",
      "metadata": {
        "id": "w40e0R6c-c2f",
        "colab": {
          "base_uri": "https://localhost:8080/"
        },
        "outputId": "234d9096-2926-4d94-93ba-b576975f291c"
      },
      "source": [
        "!pip install -U pandas-profiling"
      ],
      "execution_count": 1,
      "outputs": [
        {
          "output_type": "stream",
          "text": [
            "Collecting pandas-profiling\n",
            "\u001b[?25l  Downloading https://files.pythonhosted.org/packages/3b/a3/34519d16e5ebe69bad30c5526deea2c3912634ced7f9b5e6e0bb9dbbd567/pandas_profiling-3.0.0-py2.py3-none-any.whl (248kB)\n",
            "\r\u001b[K     |█▎                              | 10kB 17.5MB/s eta 0:00:01\r\u001b[K     |██▋                             | 20kB 18.0MB/s eta 0:00:01\r\u001b[K     |████                            | 30kB 14.9MB/s eta 0:00:01\r\u001b[K     |█████▎                          | 40kB 13.7MB/s eta 0:00:01\r\u001b[K     |██████▋                         | 51kB 7.7MB/s eta 0:00:01\r\u001b[K     |████████                        | 61kB 7.4MB/s eta 0:00:01\r\u001b[K     |█████████▎                      | 71kB 8.3MB/s eta 0:00:01\r\u001b[K     |██████████▌                     | 81kB 8.8MB/s eta 0:00:01\r\u001b[K     |███████████▉                    | 92kB 9.1MB/s eta 0:00:01\r\u001b[K     |█████████████▏                  | 102kB 7.5MB/s eta 0:00:01\r\u001b[K     |██████████████▌                 | 112kB 7.5MB/s eta 0:00:01\r\u001b[K     |███████████████▉                | 122kB 7.5MB/s eta 0:00:01\r\u001b[K     |█████████████████▏              | 133kB 7.5MB/s eta 0:00:01\r\u001b[K     |██████████████████▌             | 143kB 7.5MB/s eta 0:00:01\r\u001b[K     |███████████████████▉            | 153kB 7.5MB/s eta 0:00:01\r\u001b[K     |█████████████████████           | 163kB 7.5MB/s eta 0:00:01\r\u001b[K     |██████████████████████▍         | 174kB 7.5MB/s eta 0:00:01\r\u001b[K     |███████████████████████▊        | 184kB 7.5MB/s eta 0:00:01\r\u001b[K     |█████████████████████████       | 194kB 7.5MB/s eta 0:00:01\r\u001b[K     |██████████████████████████▍     | 204kB 7.5MB/s eta 0:00:01\r\u001b[K     |███████████████████████████▊    | 215kB 7.5MB/s eta 0:00:01\r\u001b[K     |█████████████████████████████   | 225kB 7.5MB/s eta 0:00:01\r\u001b[K     |██████████████████████████████▎ | 235kB 7.5MB/s eta 0:00:01\r\u001b[K     |███████████████████████████████▋| 245kB 7.5MB/s eta 0:00:01\r\u001b[K     |████████████████████████████████| 256kB 7.5MB/s \n",
            "\u001b[?25hRequirement already satisfied, skipping upgrade: jinja2>=2.11.1 in /usr/local/lib/python3.7/dist-packages (from pandas-profiling) (2.11.3)\n",
            "Collecting phik>=0.11.1\n",
            "\u001b[?25l  Downloading https://files.pythonhosted.org/packages/b7/ce/193e8ddf62d4be643b9b4b20e8e9c63b2f6a20f92778c0410c629f89bdaa/phik-0.11.2.tar.gz (1.1MB)\n",
            "\u001b[K     |████████████████████████████████| 1.1MB 12.8MB/s \n",
            "\u001b[?25hCollecting tqdm>=4.48.2\n",
            "\u001b[?25l  Downloading https://files.pythonhosted.org/packages/72/8a/34efae5cf9924328a8f34eeb2fdaae14c011462d9f0e3fcded48e1266d1c/tqdm-4.60.0-py2.py3-none-any.whl (75kB)\n",
            "\u001b[K     |████████████████████████████████| 81kB 10.4MB/s \n",
            "\u001b[?25hRequirement already satisfied, skipping upgrade: pandas!=1.0.0,!=1.0.1,!=1.0.2,!=1.1.0,>=0.25.3 in /usr/local/lib/python3.7/dist-packages (from pandas-profiling) (1.1.5)\n",
            "Requirement already satisfied, skipping upgrade: scipy>=1.4.1 in /usr/local/lib/python3.7/dist-packages (from pandas-profiling) (1.4.1)\n",
            "Requirement already satisfied, skipping upgrade: missingno>=0.4.2 in /usr/local/lib/python3.7/dist-packages (from pandas-profiling) (0.4.2)\n",
            "Requirement already satisfied, skipping upgrade: joblib in /usr/local/lib/python3.7/dist-packages (from pandas-profiling) (1.0.1)\n",
            "Requirement already satisfied, skipping upgrade: matplotlib>=3.2.0 in /usr/local/lib/python3.7/dist-packages (from pandas-profiling) (3.2.2)\n",
            "Collecting htmlmin>=0.1.12\n",
            "  Downloading https://files.pythonhosted.org/packages/b3/e7/fcd59e12169de19f0131ff2812077f964c6b960e7c09804d30a7bf2ab461/htmlmin-0.1.12.tar.gz\n",
            "Collecting pydantic>=1.8.1\n",
            "\u001b[?25l  Downloading https://files.pythonhosted.org/packages/9f/f2/2d5425efe57f6c4e06cbe5e587c1fd16929dcf0eb90bd4d3d1e1c97d1151/pydantic-1.8.2-cp37-cp37m-manylinux2014_x86_64.whl (10.1MB)\n",
            "\u001b[K     |████████████████████████████████| 10.1MB 27.9MB/s \n",
            "\u001b[?25hRequirement already satisfied, skipping upgrade: numpy>=1.16.0 in /usr/local/lib/python3.7/dist-packages (from pandas-profiling) (1.19.5)\n",
            "Collecting visions[type_image_path]==0.7.1\n",
            "\u001b[?25l  Downloading https://files.pythonhosted.org/packages/80/96/01e4ba22cef96ae5035dbcf0451c2f4f859f8f17393b98406b23f0034279/visions-0.7.1-py3-none-any.whl (102kB)\n",
            "\u001b[K     |████████████████████████████████| 112kB 52.2MB/s \n",
            "\u001b[?25hCollecting PyYAML>=5.0.0\n",
            "\u001b[?25l  Downloading https://files.pythonhosted.org/packages/7a/a5/393c087efdc78091afa2af9f1378762f9821c9c1d7a22c5753fb5ac5f97a/PyYAML-5.4.1-cp37-cp37m-manylinux1_x86_64.whl (636kB)\n",
            "\u001b[K     |████████████████████████████████| 645kB 41.9MB/s \n",
            "\u001b[?25hRequirement already satisfied, skipping upgrade: seaborn>=0.10.1 in /usr/local/lib/python3.7/dist-packages (from pandas-profiling) (0.11.1)\n",
            "Collecting tangled-up-in-unicode==0.1.0\n",
            "\u001b[?25l  Downloading https://files.pythonhosted.org/packages/93/3e/cb354fb2097fcf2fd5b5a342b10ae2a6e9363ba435b64e3e00c414064bc7/tangled_up_in_unicode-0.1.0-py3-none-any.whl (3.1MB)\n",
            "\u001b[K     |████████████████████████████████| 3.1MB 41.8MB/s \n",
            "\u001b[?25hCollecting requests>=2.24.0\n",
            "\u001b[?25l  Downloading https://files.pythonhosted.org/packages/29/c1/24814557f1d22c56d50280771a17307e6bf87b70727d975fd6b2ce6b014a/requests-2.25.1-py2.py3-none-any.whl (61kB)\n",
            "\u001b[K     |████████████████████████████████| 61kB 8.8MB/s \n",
            "\u001b[?25hRequirement already satisfied, skipping upgrade: MarkupSafe>=0.23 in /usr/local/lib/python3.7/dist-packages (from jinja2>=2.11.1->pandas-profiling) (2.0.0)\n",
            "Requirement already satisfied, skipping upgrade: pytz>=2017.2 in /usr/local/lib/python3.7/dist-packages (from pandas!=1.0.0,!=1.0.1,!=1.0.2,!=1.1.0,>=0.25.3->pandas-profiling) (2018.9)\n",
            "Requirement already satisfied, skipping upgrade: python-dateutil>=2.7.3 in /usr/local/lib/python3.7/dist-packages (from pandas!=1.0.0,!=1.0.1,!=1.0.2,!=1.1.0,>=0.25.3->pandas-profiling) (2.8.1)\n",
            "Requirement already satisfied, skipping upgrade: cycler>=0.10 in /usr/local/lib/python3.7/dist-packages (from matplotlib>=3.2.0->pandas-profiling) (0.10.0)\n",
            "Requirement already satisfied, skipping upgrade: pyparsing!=2.0.4,!=2.1.2,!=2.1.6,>=2.0.1 in /usr/local/lib/python3.7/dist-packages (from matplotlib>=3.2.0->pandas-profiling) (2.4.7)\n",
            "Requirement already satisfied, skipping upgrade: kiwisolver>=1.0.1 in /usr/local/lib/python3.7/dist-packages (from matplotlib>=3.2.0->pandas-profiling) (1.3.1)\n",
            "Requirement already satisfied, skipping upgrade: typing-extensions>=3.7.4.3 in /usr/local/lib/python3.7/dist-packages (from pydantic>=1.8.1->pandas-profiling) (3.7.4.3)\n",
            "Requirement already satisfied, skipping upgrade: networkx>=2.4 in /usr/local/lib/python3.7/dist-packages (from visions[type_image_path]==0.7.1->pandas-profiling) (2.5.1)\n",
            "Requirement already satisfied, skipping upgrade: bottleneck in /usr/local/lib/python3.7/dist-packages (from visions[type_image_path]==0.7.1->pandas-profiling) (1.3.2)\n",
            "Requirement already satisfied, skipping upgrade: attrs>=19.3.0 in /usr/local/lib/python3.7/dist-packages (from visions[type_image_path]==0.7.1->pandas-profiling) (21.2.0)\n",
            "Collecting multimethod==1.4\n",
            "  Downloading https://files.pythonhosted.org/packages/7a/d0/ce5ad0392aa12645b7ad91a5983d6b625b704b021d9cd48c587630c1a9ac/multimethod-1.4-py2.py3-none-any.whl\n",
            "Collecting imagehash; extra == \"type_image_path\"\n",
            "\u001b[?25l  Downloading https://files.pythonhosted.org/packages/8e/18/9dbb772b5ef73a3069c66bb5bf29b9fb4dd57af0d5790c781c3f559bcca6/ImageHash-4.2.0-py2.py3-none-any.whl (295kB)\n",
            "\u001b[K     |████████████████████████████████| 296kB 44.0MB/s \n",
            "\u001b[?25hRequirement already satisfied, skipping upgrade: Pillow; extra == \"type_image_path\" in /usr/local/lib/python3.7/dist-packages (from visions[type_image_path]==0.7.1->pandas-profiling) (7.1.2)\n",
            "Requirement already satisfied, skipping upgrade: certifi>=2017.4.17 in /usr/local/lib/python3.7/dist-packages (from requests>=2.24.0->pandas-profiling) (2020.12.5)\n",
            "Requirement already satisfied, skipping upgrade: chardet<5,>=3.0.2 in /usr/local/lib/python3.7/dist-packages (from requests>=2.24.0->pandas-profiling) (3.0.4)\n",
            "Requirement already satisfied, skipping upgrade: idna<3,>=2.5 in /usr/local/lib/python3.7/dist-packages (from requests>=2.24.0->pandas-profiling) (2.10)\n",
            "Requirement already satisfied, skipping upgrade: urllib3<1.27,>=1.21.1 in /usr/local/lib/python3.7/dist-packages (from requests>=2.24.0->pandas-profiling) (1.24.3)\n",
            "Requirement already satisfied, skipping upgrade: six>=1.5 in /usr/local/lib/python3.7/dist-packages (from python-dateutil>=2.7.3->pandas!=1.0.0,!=1.0.1,!=1.0.2,!=1.1.0,>=0.25.3->pandas-profiling) (1.15.0)\n",
            "Requirement already satisfied, skipping upgrade: decorator<5,>=4.3 in /usr/local/lib/python3.7/dist-packages (from networkx>=2.4->visions[type_image_path]==0.7.1->pandas-profiling) (4.4.2)\n",
            "Requirement already satisfied, skipping upgrade: PyWavelets in /usr/local/lib/python3.7/dist-packages (from imagehash; extra == \"type_image_path\"->visions[type_image_path]==0.7.1->pandas-profiling) (1.1.1)\n",
            "Building wheels for collected packages: phik, htmlmin\n",
            "  Building wheel for phik (setup.py) ... \u001b[?25l\u001b[?25hdone\n",
            "  Created wheel for phik: filename=phik-0.11.2-cp37-none-any.whl size=1107413 sha256=5d4816bcdab7b51a1b8ec712ffac08ff07648e6e95f76f14afb4a034ad2ce324\n",
            "  Stored in directory: /root/.cache/pip/wheels/c0/a3/b0/f27b1cfe32ea131a3715169132ff6d85653789e80e966c3bf6\n",
            "  Building wheel for htmlmin (setup.py) ... \u001b[?25l\u001b[?25hdone\n",
            "  Created wheel for htmlmin: filename=htmlmin-0.1.12-cp37-none-any.whl size=27085 sha256=3ad0a014405d33496b15a339124b247611143874315030b0e8616066622245e2\n",
            "  Stored in directory: /root/.cache/pip/wheels/43/07/ac/7c5a9d708d65247ac1f94066cf1db075540b85716c30255459\n",
            "Successfully built phik htmlmin\n",
            "\u001b[31mERROR: google-colab 1.0.0 has requirement requests~=2.23.0, but you'll have requests 2.25.1 which is incompatible.\u001b[0m\n",
            "\u001b[31mERROR: datascience 0.10.6 has requirement folium==0.2.1, but you'll have folium 0.8.3 which is incompatible.\u001b[0m\n",
            "\u001b[31mERROR: phik 0.11.2 has requirement scipy>=1.5.2, but you'll have scipy 1.4.1 which is incompatible.\u001b[0m\n",
            "Installing collected packages: phik, tqdm, htmlmin, pydantic, multimethod, tangled-up-in-unicode, imagehash, visions, PyYAML, requests, pandas-profiling\n",
            "  Found existing installation: tqdm 4.41.1\n",
            "    Uninstalling tqdm-4.41.1:\n",
            "      Successfully uninstalled tqdm-4.41.1\n",
            "  Found existing installation: PyYAML 3.13\n",
            "    Uninstalling PyYAML-3.13:\n",
            "      Successfully uninstalled PyYAML-3.13\n",
            "  Found existing installation: requests 2.23.0\n",
            "    Uninstalling requests-2.23.0:\n",
            "      Successfully uninstalled requests-2.23.0\n",
            "  Found existing installation: pandas-profiling 1.4.1\n",
            "    Uninstalling pandas-profiling-1.4.1:\n",
            "      Successfully uninstalled pandas-profiling-1.4.1\n",
            "Successfully installed PyYAML-5.4.1 htmlmin-0.1.12 imagehash-4.2.0 multimethod-1.4 pandas-profiling-3.0.0 phik-0.11.2 pydantic-1.8.2 requests-2.25.1 tangled-up-in-unicode-0.1.0 tqdm-4.60.0 visions-0.7.1\n"
          ],
          "name": "stdout"
        }
      ]
    },
    {
      "cell_type": "code",
      "metadata": {
        "id": "QQ96h0bAmo_K"
      },
      "source": [
        "!pip install pycaret"
      ],
      "execution_count": null,
      "outputs": []
    },
    {
      "cell_type": "code",
      "metadata": {
        "colab": {
          "base_uri": "https://localhost:8080/"
        },
        "id": "mxPYEuX_mEUr",
        "outputId": "484f8726-90fd-4ccf-8b2f-3d5d39e7fe9e"
      },
      "source": [
        "!/opt/conda-environments/rapids-stable/bin/python -m pip install --upgrade pycaret"
      ],
      "execution_count": 2,
      "outputs": [
        {
          "output_type": "stream",
          "text": [
            "/bin/bash: /opt/conda-environments/rapids-stable/bin/python: No such file or directory\n"
          ],
          "name": "stdout"
        }
      ]
    },
    {
      "cell_type": "code",
      "metadata": {
        "colab": {
          "base_uri": "https://localhost:8080/"
        },
        "id": "N9Ms9xopltfq",
        "outputId": "3311981b-db62-4895-94c1-7f849c8a5379"
      },
      "source": [
        "# uninstall lightgbm CPU\n",
        "!pip uninstall lightgbm -y\n",
        "\n",
        "# install lightgbm GPU\n",
        "!pip install lightgbm --install-option=--gpu --install-option=\"--opencl-include-dir=/usr/local/cuda/include/\" --install-option=\"--opencl-library=/usr/local/cuda/lib64/libOpenCL.so\""
      ],
      "execution_count": 4,
      "outputs": [
        {
          "output_type": "stream",
          "text": [
            "Uninstalling lightgbm-2.2.3:\n",
            "  Successfully uninstalled lightgbm-2.2.3\n",
            "/usr/local/lib/python3.7/dist-packages/pip/_internal/commands/install.py:283: UserWarning: Disabling all use of wheels due to the use of --build-options / --global-options / --install-options.\n",
            "  cmdoptions.check_install_build_global(options)\n",
            "Collecting lightgbm\n",
            "\u001b[?25l  Downloading https://files.pythonhosted.org/packages/7a/6d/db0f5effd3f7982632111f37fcd2fa386b8407f1ff58ef30b71d65e1a444/lightgbm-3.2.1.tar.gz (1.5MB)\n",
            "\u001b[K     |████████████████████████████████| 1.5MB 7.0MB/s \n",
            "\u001b[?25hRequirement already satisfied: wheel in /usr/local/lib/python3.7/dist-packages (from lightgbm) (0.36.2)\n",
            "Requirement already satisfied: numpy in /usr/local/lib/python3.7/dist-packages (from lightgbm) (1.19.5)\n",
            "Requirement already satisfied: scipy in /usr/local/lib/python3.7/dist-packages (from lightgbm) (1.4.1)\n",
            "Requirement already satisfied: scikit-learn!=0.22.0 in /usr/local/lib/python3.7/dist-packages (from lightgbm) (0.22.2.post1)\n",
            "Requirement already satisfied: joblib>=0.11 in /usr/local/lib/python3.7/dist-packages (from scikit-learn!=0.22.0->lightgbm) (1.0.1)\n",
            "Skipping wheel build for lightgbm, due to binaries being disabled for it.\n",
            "Installing collected packages: lightgbm\n",
            "    Running setup.py install for lightgbm ... \u001b[?25l\u001b[?25hcanceled\u001b[31mERROR: Operation cancelled by user\u001b[0m\n"
          ],
          "name": "stdout"
        }
      ]
    },
    {
      "cell_type": "code",
      "metadata": {
        "id": "-YLm-3Xzq-f6"
      },
      "source": [
        "from pycaret.utils import enable_colab\n",
        "enable_colab()"
      ],
      "execution_count": null,
      "outputs": []
    },
    {
      "cell_type": "markdown",
      "metadata": {
        "id": "7Zqj3SonB_9q"
      },
      "source": [
        "# Nota\n",
        "\n",
        "Este notebook irá testar a performance da biblioteca Pycaret, será testado também a biblioteca H2O.ai em outro notebook ()."
      ]
    },
    {
      "cell_type": "markdown",
      "metadata": {
        "id": "JodQ-tUBCn3m"
      },
      "source": [
        "# Rain in Australia\n",
        "\n",
        "Conjutno de dados - Rain in Australia: https://www.kaggle.com/jsphyg/weather-dataset-rattle-package\n",
        "\n",
        "![rain_features.PNG](data:image/png;base64,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)"
      ]
    },
    {
      "cell_type": "code",
      "metadata": {
        "id": "tZCRIWSXD9Pc"
      },
      "source": [
        "# Baixa o csv a partir de um link para que qualquer pessoa possa executar sem maiores dificuldades\n",
        "# Uniformiza o trabalho e facilita o compartilhamento de códigos e notebooks\n",
        "# Realiza o download dos dados e extrai para uma pasta conhecida\n",
        "import zipfile\n",
        "import gdown\n",
        "import os\n",
        "\n",
        "parent_dir = '/content'\n",
        "\n",
        "file_name = 'rain_aus.csv'\n",
        "output = os.path.join( parent_dir, file_name )\n",
        "\n",
        "if not(os.path.isfile(output)):\n",
        "    url = 'https://drive.google.com/u/0/uc?id=1eT05yNu1TvSXlcEdrgAGKAx7bdEEMrLl'\n",
        "    gdown.download(url, output=output, quiet=True)\n"
      ],
      "execution_count": null,
      "outputs": []
    },
    {
      "cell_type": "code",
      "metadata": {
        "id": "EvoOLMlVAhpZ"
      },
      "source": [
        "import pandas as pd\n",
        "\n",
        "df_rain = pd.read_csv('rain_aus.csv')\n",
        "df_rain.head(3)"
      ],
      "execution_count": null,
      "outputs": []
    },
    {
      "cell_type": "code",
      "metadata": {
        "id": "Lo2gIv5URrAN"
      },
      "source": [
        "# Risk_mm é label para regressão, deve ser removido\n",
        "df_rain.drop(labels='RISK_MM', axis='columns', inplace=True)"
      ],
      "execution_count": null,
      "outputs": []
    },
    {
      "cell_type": "code",
      "metadata": {
        "id": "06PovTkhQ-4h"
      },
      "source": [
        "df_rain.shape"
      ],
      "execution_count": null,
      "outputs": []
    },
    {
      "cell_type": "markdown",
      "metadata": {
        "id": "Qa6dSPTKscjp"
      },
      "source": [
        "# Análise Exploratória de Dados (EDA)"
      ]
    },
    {
      "cell_type": "code",
      "metadata": {
        "id": "N5ny4EyosaxG"
      },
      "source": [
        "from pandas_profiling import ProfileReport\n",
        "\n",
        "profile = ProfileReport(df_rain)\n",
        "profile.to_notebook_iframe()"
      ],
      "execution_count": null,
      "outputs": []
    },
    {
      "cell_type": "markdown",
      "metadata": {
        "id": "ncq_vPNctLDW"
      },
      "source": [
        "# Separação de dados"
      ]
    },
    {
      "cell_type": "markdown",
      "metadata": {
        "id": "AFZ3GSFBHE2Y"
      },
      "source": [
        "Por padrão o Pycaret separa os dados em Treino e teste (70%, 30%). Mas uma boa pratica é remover de 5% a 10% dos dados para uma validação final após finalização de todo o processo de modelagem e treinamento."
      ]
    },
    {
      "cell_type": "code",
      "metadata": {
        "id": "BU0d7t-_Qsii"
      },
      "source": [
        "df_validacao_final = df_rain.sample(frac=0.05, random_state=777)\n",
        "df_rain.drop(df_validacao_final.index, inplace=True)\n",
        "df_rain.reset_index(inplace=True, drop=True)"
      ],
      "execution_count": null,
      "outputs": []
    },
    {
      "cell_type": "code",
      "metadata": {
        "id": "FCrhXfhBSCEP"
      },
      "source": [
        "print(df_rain.shape)\n",
        "print(df_validacao_final.shape)"
      ],
      "execution_count": null,
      "outputs": []
    },
    {
      "cell_type": "markdown",
      "metadata": {
        "id": "C9i11TnaQOul"
      },
      "source": [
        "# Pycaret com Parâmetros Default\n",
        "\n",
        "The **setup()** function initializes the environment in pycaret and creates the transformation pipeline to prepare the data for modeling and deployment. **setup()** must be called before executing any other function in pycaret. [Retirado do github oficial do PyCaret](https://github.com/pycaret/pycaret/blob/master/tutorials/Binary%20Classification%20Tutorial%20Level%20Beginner%20-%20%20CLF101.ipynb)"
      ]
    },
    {
      "cell_type": "code",
      "metadata": {
        "id": "9kNJLf4cDpjp"
      },
      "source": [
        "from pycaret.classification import *\n",
        "\n",
        "clf_default = setup(df_rain, target = 'RainTomorrow', session_id=1, log_experiment=True, experiment_name='Pycaret Default Values')"
      ],
      "execution_count": null,
      "outputs": []
    },
    {
      "cell_type": "markdown",
      "metadata": {
        "id": "HaySCwnqJG9j"
      },
      "source": [
        "## Comparando modelos\n",
        "\n",
        " \n",
        "\"Comparing all models to evaluate performance is the recommended starting point for modeling once the setup is completed (unless you exactly know what kind of model you need, which is often not the case).\" [Retirado do github oficial do PyCaret](https://github.com/pycaret/pycaret/blob/master/tutorials/Binary%20Classification%20Tutorial%20Level%20Beginner%20-%20%20CLF101.ipynb)"
      ]
    },
    {
      "cell_type": "code",
      "metadata": {
        "id": "K4Buw7XkHuNA"
      },
      "source": [
        "best_model = compare_models()"
      ],
      "execution_count": null,
      "outputs": []
    },
    {
      "cell_type": "markdown",
      "metadata": {
        "id": "786PgkVyKeIY"
      },
      "source": [
        "## Criando Modelos Individuais (2: Cat e XgBoost)"
      ]
    },
    {
      "cell_type": "markdown",
      "metadata": {
        "id": "laupLBVtTSBx"
      },
      "source": [
        "### CatBoost"
      ]
    },
    {
      "cell_type": "code",
      "metadata": {
        "id": "lQSy5PZXKdkK"
      },
      "source": [
        "# CatBoost\n",
        "catboost = create_model('catboost')"
      ],
      "execution_count": null,
      "outputs": []
    },
    {
      "cell_type": "markdown",
      "metadata": {
        "id": "w9YdvBOOTW98"
      },
      "source": [
        "### XgBoost"
      ]
    },
    {
      "cell_type": "code",
      "metadata": {
        "id": "a29clP5VL4S7"
      },
      "source": [
        "# Random Forest\n",
        "xgboost = create_model('xgboost')"
      ],
      "execution_count": null,
      "outputs": []
    },
    {
      "cell_type": "markdown",
      "metadata": {
        "id": "DJM7bkqxMPsr"
      },
      "source": [
        "## Tunando os Modelos"
      ]
    },
    {
      "cell_type": "markdown",
      "metadata": {
        "id": "a07Vx5OILoHo"
      },
      "source": [
        "By default, tune_model optimizes Accuracy but this can be changed using optimize parameter. For example: tune_model(dt, optimize = 'AUC') will search for the hyperparameters of a Decision Tree Classifier that results in the highest AUC instead of Accuracy. [Retirado do github oficial do PyCaret](https://github.com/pycaret/pycaret/blob/master/tutorials/Binary%20Classification%20Tutorial%20Level%20Beginner%20-%20%20CLF101.ipynb)"
      ]
    },
    {
      "cell_type": "markdown",
      "metadata": {
        "id": "D5ketdMiTcq3"
      },
      "source": [
        "### CatBoost"
      ]
    },
    {
      "cell_type": "code",
      "metadata": {
        "id": "Iv1L_e0LJgsQ"
      },
      "source": [
        "tuned_cat = tune_model(catboost)"
      ],
      "execution_count": null,
      "outputs": []
    },
    {
      "cell_type": "markdown",
      "metadata": {
        "id": "Qd8IbBrfTfHO"
      },
      "source": [
        "### XGBoost\n"
      ]
    },
    {
      "cell_type": "code",
      "metadata": {
        "id": "3ki_afbTMZtG"
      },
      "source": [
        "tuned_xgb = tune_model(xgboost)"
      ],
      "execution_count": null,
      "outputs": []
    },
    {
      "cell_type": "markdown",
      "metadata": {
        "id": "VhbCDjwQOiMU"
      },
      "source": [
        "## Validando os modelos (Métricas e Gráficos)\n"
      ]
    },
    {
      "cell_type": "markdown",
      "metadata": {
        "id": "7qMkUnGSPSAI"
      },
      "source": [
        "### Catboost"
      ]
    },
    {
      "cell_type": "code",
      "metadata": {
        "id": "evrD0crwMZ1D"
      },
      "source": [
        "plot_model(tuned_cat, plot='auc')"
      ],
      "execution_count": null,
      "outputs": []
    },
    {
      "cell_type": "code",
      "metadata": {
        "id": "OWkDmkeKMZ3L"
      },
      "source": [
        "plot_model(tuned_cat, plot = 'pr')"
      ],
      "execution_count": null,
      "outputs": []
    },
    {
      "cell_type": "code",
      "metadata": {
        "id": "QJVQON9cMZ5x"
      },
      "source": [
        "plot_model(tuned_cat, plot='feature')"
      ],
      "execution_count": null,
      "outputs": []
    },
    {
      "cell_type": "code",
      "metadata": {
        "id": "lseiOSWMPcj4"
      },
      "source": [
        "plot_model(tuned_cat, plot = 'confusion_matrix')"
      ],
      "execution_count": null,
      "outputs": []
    },
    {
      "cell_type": "markdown",
      "metadata": {
        "id": "Cj_i08S5PlgQ"
      },
      "source": [
        "### Random Forest"
      ]
    },
    {
      "cell_type": "markdown",
      "metadata": {
        "id": "WONJo-9BSqBG"
      },
      "source": [
        "A função **evaluate_model()** inicia uma interface de usuário que permite a seleção do tipo de gráfico, permitindo a validação do modelo com todos as métricas disponíveis pelo PyCaret."
      ]
    },
    {
      "cell_type": "code",
      "metadata": {
        "id": "JXPd-rm7Pcmy"
      },
      "source": [
        "evaluate_model(tuned_xgb)"
      ],
      "execution_count": null,
      "outputs": []
    },
    {
      "cell_type": "markdown",
      "metadata": {
        "id": "j2k02xMXTkXk"
      },
      "source": [
        "## Avaliando os conjunto de **Teste**\n",
        "\n",
        "Before finalizing the model, it is advisable to perform one final check by predicting the test/hold-out set and reviewing the evaluation metrics. [Retirado do github oficial do PyCaret](https://github.com/pycaret/pycaret/blob/master/tutorials/Binary%20Classification%20Tutorial%20Level%20Beginner%20-%20%20CLF101.ipynb)"
      ]
    },
    {
      "cell_type": "markdown",
      "metadata": {
        "id": "hkXR-MbeTuuD"
      },
      "source": [
        "### CatBoost"
      ]
    },
    {
      "cell_type": "code",
      "metadata": {
        "id": "NMJ3IRAtPcpK"
      },
      "source": [
        "predict_model(tuned_cat)"
      ],
      "execution_count": null,
      "outputs": []
    },
    {
      "cell_type": "markdown",
      "metadata": {
        "id": "MSx8dSqAWTXS"
      },
      "source": [
        "### XGBoost"
      ]
    },
    {
      "cell_type": "code",
      "metadata": {
        "id": "uQou3oIUPcrh"
      },
      "source": [
        "predict_model(tuned_xgb)"
      ],
      "execution_count": null,
      "outputs": []
    },
    {
      "cell_type": "markdown",
      "metadata": {
        "id": "oiK5b2Lkhu7-"
      },
      "source": [
        "## Realizando a Calibração dos Modelos\n",
        "\n",
        "Verificar se existe melhora."
      ]
    },
    {
      "cell_type": "code",
      "metadata": {
        "id": "O5z5x5zYZNdS"
      },
      "source": [
        "best_calib = calibrate_model(tuned_cat)"
      ],
      "execution_count": null,
      "outputs": []
    },
    {
      "cell_type": "code",
      "metadata": {
        "id": "etABMYc7bH9P"
      },
      "source": [
        "predict_model(best_calib)"
      ],
      "execution_count": null,
      "outputs": []
    },
    {
      "cell_type": "markdown",
      "metadata": {
        "id": "1hFByBrxh-85"
      },
      "source": [
        "Observa-se uma melhora muito baixa, mas que usaremos mesmo assim.\n",
        "\n",
        "Tunned CatBoost:\n",
        "\n",
        "![py1.PNG](data:image/png;base64,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)\n",
        "\n",
        "\n",
        "**Tunned + Calibrated CatBoost**\n",
        "\n",
        "![py2.PNG](data:image/png;base64,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)"
      ]
    },
    {
      "cell_type": "markdown",
      "metadata": {
        "id": "6ZPD2V3bkU54"
      },
      "source": [
        "## Finalizando o modelo\n",
        "\n",
        "Modelo escolhido: CatBoost\n",
        "\n",
        "The finalize_model() function fits the model onto the complete dataset including the test/hold-out sample (30% in this case). The purpose of this function is to train the model on the complete dataset before it is deployed in production. [Retirado do github oficial do PyCaret](https://github.com/pycaret/pycaret/blob/master/tutorials/Binary%20Classification%20Tutorial%20Level%20Beginner%20-%20%20CLF101.ipynb)"
      ]
    },
    {
      "cell_type": "code",
      "metadata": {
        "id": "-Om9Y9N5iLIw"
      },
      "source": [
        "final_cat = finalize_model(best_calib)"
      ],
      "execution_count": null,
      "outputs": []
    },
    {
      "cell_type": "code",
      "metadata": {
        "id": "Iwg-NfiqiLGI"
      },
      "source": [
        "# Visualizando os parametros do modelo que irá para Deploy\n",
        "final_cat.get_params()"
      ],
      "execution_count": null,
      "outputs": []
    },
    {
      "cell_type": "markdown",
      "metadata": {
        "id": "vaGkOJBAmoLc"
      },
      "source": [
        "## Validação dados nunca usados"
      ]
    },
    {
      "cell_type": "code",
      "metadata": {
        "id": "MjS52N8BmTkB"
      },
      "source": [
        "df_unseen = predict_model(final_cat, data=df_validacao_final)\n",
        "df_unseen.head()"
      ],
      "execution_count": null,
      "outputs": []
    },
    {
      "cell_type": "code",
      "metadata": {
        "id": "35_FEnPwlwMI"
      },
      "source": [
        "from pycaret.utils import check_metric\n",
        "\n",
        "check_metric(df_unseen['target'], df_unseen['Label'], metric = 'Accuracy')"
      ],
      "execution_count": null,
      "outputs": []
    },
    {
      "cell_type": "markdown",
      "metadata": {
        "id": "--R3pr8spf1Z"
      },
      "source": [
        "# Salvando o modelo"
      ]
    },
    {
      "cell_type": "code",
      "metadata": {
        "id": "azS9yU0spiun"
      },
      "source": [
        "save_model(final_cat,'Final_Cat_16maio2021')"
      ],
      "execution_count": null,
      "outputs": []
    },
    {
      "cell_type": "markdown",
      "metadata": {
        "id": "QmdmNddpp9uH"
      },
      "source": [
        "# Loading do Modelo (Exemplo)"
      ]
    },
    {
      "cell_type": "code",
      "metadata": {
        "id": "t4Fhy2nEppgm"
      },
      "source": [
        "modelo_salvo_cat = load_model('/content/Final_Cat_16maio2021')"
      ],
      "execution_count": null,
      "outputs": []
    },
    {
      "cell_type": "code",
      "metadata": {
        "id": "2ce6jU_KqPVO"
      },
      "source": [
        "predict_model(modelo_salvo_cat, data=df_unseen)"
      ],
      "execution_count": null,
      "outputs": []
    },
    {
      "cell_type": "markdown",
      "metadata": {
        "id": "v0JoxUGRnOr9"
      },
      "source": [
        "# Computando o tempo de execução"
      ]
    },
    {
      "cell_type": "code",
      "metadata": {
        "id": "Z_DyIq-BnTPB"
      },
      "source": [
        "fim = time.time()\n",
        "print(fim - ini)"
      ],
      "execution_count": null,
      "outputs": []
    }
  ]
}